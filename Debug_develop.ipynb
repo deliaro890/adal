{
 "cells": [
  {
   "cell_type": "code",
   "execution_count": 9,
   "id": "c551d7be-6b2c-438c-af2f-32c17d16e0e1",
   "metadata": {},
   "outputs": [],
   "source": [
    "import pandas  as pd\n",
    "from os import environ\n",
    "from google.cloud import bigquery\n",
    "import gspread"
   ]
  },
  {
   "cell_type": "code",
   "execution_count": 72,
   "id": "8ec095c8-31b2-4558-b23d-d4db54d6de5f",
   "metadata": {},
   "outputs": [],
   "source": [
    "from pydantic import BaseModel , ConfigDict, ValidationError\n",
    "from typing import Optional"
   ]
  },
  {
   "cell_type": "code",
   "execution_count": 81,
   "id": "5afa95b6-25ed-40a6-bc18-25038437b27b",
   "metadata": {},
   "outputs": [],
   "source": [
    "class Registro(BaseModel):\n",
    "    \"\"\"Clase Eredada de registros para validación de parametros de entrada\"\"\"\n",
    "    #model_config = ConfigDict(arbitrary_types_allowed=True)\n",
    "    \n",
    "    date_time : list [str] #fehca y hora en formato MM/DD/YYYY hh:mm:ss\n",
    "    email : list [str] #correo\n",
    "    name : list [str]# Nombre\n",
    "    last_name : list [str]  #apellido\n",
    "    age : list [int] #Edad\n",
    "    country_lada : list [str]#lada del país \n",
    "    phone : list  [str]# telefono\n",
    "    gender : list  [str] #genero\n",
    "    url_avatar : list [str] # URL del avatar\n",
    "    id : list [int] #id\n"
   ]
  },
  {
   "cell_type": "code",
   "execution_count": 93,
   "id": "39d8738f-7797-4d76-a191-e073f069e686",
   "metadata": {},
   "outputs": [],
   "source": [
    "def update_users( datos : Registro):\n",
    "    \"\"\"Recibe los datos en forma de dicionario, crea un dataframe en pandas , inserta los datos del data frame \n",
    " \n",
    "\n",
    "    \"\"\"\n",
    "    diccionario= ({\n",
    "    'date_time' : datos.date_time, \n",
    "    'email' : datos.email, \n",
    "    'name' : datos.name, \n",
    "    'last_name' : datos.last_name,\n",
    "    'age' : datos.age, \n",
    "    'country_lada' : datos.country_lada,\n",
    "    'phone' : datos.phone, \n",
    "    'gender' : datos.gender, \n",
    "    'url_avatar' : datos.url_avatar, \n",
    "    'id' : datos.id \n",
    "    \n",
    "    })\n",
    "\n",
    "    \n",
    "    print(\"Leyendo datos ... \")\n",
    "    table_id = 'transact.users'\n",
    "    \n",
    "  \n",
    "    df =  pd.DataFrame(data = diccionario)\n",
    "\n",
    "\n",
    "    \n",
    "    df['date_time']=pd.to_datetime(df['date_time'])\n",
    "    df['age']=pd.to_numeric(df['age'])\n",
    "    df['id']=pd.to_numeric(df['id'])\n",
    "    df.phone = df.phone.astype(str)\n",
    "\n",
    "  \n",
    "    \n",
    "    \n",
    "    job_config = bigquery.LoadJobConfig(schema=[\n",
    "    bigquery.SchemaField(\"date_time\", \"DATETIME\"),\n",
    "    bigquery.SchemaField(\"email\", \"STRING\"),\n",
    "    bigquery.SchemaField(\"name\", \"STRING\"),\n",
    "    bigquery.SchemaField(\"last_name\", \"STRING\"),\n",
    "    bigquery.SchemaField(\"age\", \"INTEGER\"),\n",
    "    bigquery.SchemaField(\"country_lada\", \"STRING\"),\n",
    "    bigquery.SchemaField(\"phone\", \"STRING\"),\n",
    "    bigquery.SchemaField(\"gender\", \"STRING\"),\n",
    "    bigquery.SchemaField(\"url_avatar\", \"STRING\"),\n",
    "    bigquery.SchemaField(\"id\", \"INTEGER\",'REQUIRED')\n",
    "    ])\n",
    "    job = client.load_table_from_dataframe(df, table_id, job_config=job_config)\n",
    "    \n",
    "    job.result()\n",
    "    \n",
    "    if job.done() : \n",
    "        print ('Usuarios actualizados : {}'.format(len(df))) \n",
    "        return {\"Estado\": \"OK\"}\n",
    "    else:\n",
    "        print('Error algo salió mal ')\n",
    "        return {\"Estado\": \"Error algo salió mal\"}"
   ]
  },
  {
   "cell_type": "code",
   "execution_count": 94,
   "id": "cd68c7b7-2e80-442a-acba-f14b9e6cd594",
   "metadata": {},
   "outputs": [
    {
     "name": "stdout",
     "output_type": "stream",
     "text": [
      "Leyendo datos ... \n",
      "Usuarios actualizados : 1\n"
     ]
    },
    {
     "data": {
      "text/plain": [
       "{'Estado': 'OK'}"
      ]
     },
     "execution_count": 94,
     "metadata": {},
     "output_type": "execute_result"
    }
   ],
   "source": [
    "update_users( data_dic_2 )"
   ]
  },
  {
   "cell_type": "code",
   "execution_count": 91,
   "id": "73d0ae3a-97a8-44fb-af5a-022f3d174bfd",
   "metadata": {},
   "outputs": [],
   "source": [
    "df =  pd.DataFrame(data = data_dic_2)\n",
    "df['date_time']=pd.to_datetime(df['date_time'])\n",
    "df['age']=pd.to_numeric(df['age'])\n",
    "df.phone = df.phone.astype(str)\n",
    "\n"
   ]
  },
  {
   "cell_type": "code",
   "execution_count": 92,
   "id": "c1c964c0-36f6-450e-a70f-c7e514040256",
   "metadata": {},
   "outputs": [
    {
     "name": "stdout",
     "output_type": "stream",
     "text": [
      "<class 'pandas.core.frame.DataFrame'>\n",
      "RangeIndex: 1 entries, 0 to 0\n",
      "Data columns (total 10 columns):\n",
      " #   Column        Non-Null Count  Dtype         \n",
      "---  ------        --------------  -----         \n",
      " 0   date_time     1 non-null      datetime64[ns]\n",
      " 1   email         1 non-null      object        \n",
      " 2   name          1 non-null      object        \n",
      " 3   last_name     1 non-null      object        \n",
      " 4   age           1 non-null      int64         \n",
      " 5   country_lada  1 non-null      object        \n",
      " 6   phone         1 non-null      object        \n",
      " 7   gender        1 non-null      object        \n",
      " 8   url_avatar    1 non-null      object        \n",
      " 9   id            1 non-null      int64         \n",
      "dtypes: datetime64[ns](1), int64(2), object(7)\n",
      "memory usage: 212.0+ bytes\n"
     ]
    }
   ],
   "source": [
    "df.info()"
   ]
  },
  {
   "cell_type": "code",
   "execution_count": null,
   "id": "24b649f6-e9f0-4038-ae51-bf978aaaaea4",
   "metadata": {},
   "outputs": [],
   "source": [
    " Set `arbitrary_types_allowed=True`"
   ]
  },
  {
   "cell_type": "code",
   "execution_count": 3,
   "id": "3d9a765d-9bb2-4f27-b02a-ea2868be42d1",
   "metadata": {},
   "outputs": [],
   "source": [
    "environ[\"GOOGLE_APPLICATION_CREDENTIALS\"]=\"/keys_g/nova-cel-bot.json\"\n",
    "client = bigquery.Client()"
   ]
  },
  {
   "cell_type": "code",
   "execution_count": 28,
   "id": "e4fafffa-7b49-4b8a-8151-aa07cdb3b466",
   "metadata": {},
   "outputs": [],
   "source": [
    "data_dic =  {'date_time': '9/20/2022 11:41:37' ,'email': \"correo@dominio.com\",'name':\"fulanito\", 'last_name':\"perez López\",'age':24,'country_lada' : \"+52\" ,'phone':5571784852,'gender': \"hombre\", 'url_avatar' : \"url_avatar\",'id':33}\n",
    "\n"
   ]
  },
  {
   "cell_type": "code",
   "execution_count": 95,
   "id": "2f2ceddb-1bc0-47dd-a8d7-442505a3a5f9",
   "metadata": {},
   "outputs": [],
   "source": [
    "data_dic_2 =  {'date_time': ['9/20/2022 11:41:37'] ,'email': [\"correo@dominio.com\"],'name':[\"fulanito\"], 'last_name': [\"perez López\"],'age':[24],'country_lada' : [\"+52\"] ,'phone':[5571784852],'gender': [\"hombre\"], 'url_avatar' : [\"url_avatar\"],'id':[33]}\n"
   ]
  },
  {
   "cell_type": "code",
   "execution_count": 47,
   "id": "32618e15-4b1f-4e8e-9ace-d3d2725e7b8b",
   "metadata": {},
   "outputs": [
    {
     "data": {
      "text/plain": [
       "dict_values(['9/20/2022 11:41:37', 'correo@dominio.com', 'fulanito', 'perez López', 24, '+52', 5571784852, 'hombre', 'url_avatar', 33])"
      ]
     },
     "execution_count": 47,
     "metadata": {},
     "output_type": "execute_result"
    }
   ],
   "source": [
    "data_dic.values()"
   ]
  },
  {
   "cell_type": "code",
   "execution_count": null,
   "id": "0921f949-c61b-437b-8da8-2cff5d1b2e57",
   "metadata": {},
   "outputs": [],
   "source": [
    "ddv"
   ]
  },
  {
   "cell_type": "code",
   "execution_count": 48,
   "id": "173038eb-8703-4f64-99b8-49c48e90e937",
   "metadata": {},
   "outputs": [
    {
     "data": {
      "text/plain": [
       "dict_keys(['date_time', 'email', 'name', 'last_name', 'age', 'country_lada', 'phone', 'gender', 'url_avatar', 'id'])"
      ]
     },
     "execution_count": 48,
     "metadata": {},
     "output_type": "execute_result"
    }
   ],
   "source": [
    "data_dic.keys()"
   ]
  },
  {
   "cell_type": "code",
   "execution_count": 62,
   "id": "b408cc2d-b8e6-47af-849c-29ae256c97a1",
   "metadata": {},
   "outputs": [],
   "source": [
    "pdf = pd.DataFrame(data = data_dic_2)"
   ]
  },
  {
   "cell_type": "code",
   "execution_count": 66,
   "id": "1e6ca969-55ed-43a7-a52f-e7354f3e03d2",
   "metadata": {},
   "outputs": [],
   "source": [
    "pdf['date_time']=pd.to_datetime(pdf['date_time'])"
   ]
  },
  {
   "cell_type": "code",
   "execution_count": 68,
   "id": "a6973872-a44d-4862-8b8b-91a1d96716a8",
   "metadata": {},
   "outputs": [],
   "source": [
    "pdf['age']=pd.to_numeric(pdf['age'])"
   ]
  },
  {
   "cell_type": "code",
   "execution_count": 69,
   "id": "7f32dcb5-e7fd-4827-8b4b-8f3ac1b77103",
   "metadata": {},
   "outputs": [
    {
     "name": "stdout",
     "output_type": "stream",
     "text": [
      "<class 'pandas.core.frame.DataFrame'>\n",
      "RangeIndex: 1 entries, 0 to 0\n",
      "Data columns (total 10 columns):\n",
      " #   Column        Non-Null Count  Dtype         \n",
      "---  ------        --------------  -----         \n",
      " 0   date_time     1 non-null      datetime64[ns]\n",
      " 1   email         1 non-null      object        \n",
      " 2   name          1 non-null      object        \n",
      " 3   last_name     1 non-null      object        \n",
      " 4   age           1 non-null      int64         \n",
      " 5   country_lada  1 non-null      object        \n",
      " 6   phone         1 non-null      int64         \n",
      " 7   gender        1 non-null      object        \n",
      " 8   url_avatar    1 non-null      object        \n",
      " 9   id            1 non-null      int64         \n",
      "dtypes: datetime64[ns](1), int64(3), object(6)\n",
      "memory usage: 212.0+ bytes\n"
     ]
    }
   ],
   "source": [
    "pdf.info()"
   ]
  },
  {
   "cell_type": "code",
   "execution_count": 56,
   "id": "11da1af5-f93f-4198-bd84-4b758e59e458",
   "metadata": {},
   "outputs": [],
   "source": [
    "#dataframe= pd.DataFrame(data=(['9/20/2022 11:41:37', 'correo@dominio.com', 'fulanito', 'perez López', 24, '+52', 5571784852, 'hombre', 'url_avatar', 33]), index=None, columns= (['date_time', 'email', 'name', 'last_name', 'age', 'country_lada', 'phone', 'gender', 'url_avatar', 'id']) , dtype=None, copy=None)\n"
   ]
  },
  {
   "cell_type": "code",
   "execution_count": 23,
   "id": "f0fe9626-2f4b-47e0-8c6a-5646dc70362a",
   "metadata": {},
   "outputs": [
    {
     "data": {
      "text/html": [
       "<div>\n",
       "<style scoped>\n",
       "    .dataframe tbody tr th:only-of-type {\n",
       "        vertical-align: middle;\n",
       "    }\n",
       "\n",
       "    .dataframe tbody tr th {\n",
       "        vertical-align: top;\n",
       "    }\n",
       "\n",
       "    .dataframe thead th {\n",
       "        text-align: right;\n",
       "    }\n",
       "</style>\n",
       "<table border=\"1\" class=\"dataframe\">\n",
       "  <thead>\n",
       "    <tr style=\"text-align: right;\">\n",
       "      <th></th>\n",
       "      <th>0</th>\n",
       "    </tr>\n",
       "  </thead>\n",
       "  <tbody>\n",
       "    <tr>\n",
       "      <th>date_time</th>\n",
       "      <td>9/20/2022 11:41:37</td>\n",
       "    </tr>\n",
       "    <tr>\n",
       "      <th>email</th>\n",
       "      <td>correo@dominio.com</td>\n",
       "    </tr>\n",
       "    <tr>\n",
       "      <th>name</th>\n",
       "      <td>fulanito</td>\n",
       "    </tr>\n",
       "    <tr>\n",
       "      <th>last_name</th>\n",
       "      <td>perez López</td>\n",
       "    </tr>\n",
       "    <tr>\n",
       "      <th>age</th>\n",
       "      <td>24</td>\n",
       "    </tr>\n",
       "    <tr>\n",
       "      <th>country_lada</th>\n",
       "      <td>+52</td>\n",
       "    </tr>\n",
       "    <tr>\n",
       "      <th>phone</th>\n",
       "      <td>5571784852</td>\n",
       "    </tr>\n",
       "    <tr>\n",
       "      <th>gender</th>\n",
       "      <td>hombre</td>\n",
       "    </tr>\n",
       "    <tr>\n",
       "      <th>url_avatar</th>\n",
       "      <td>url_avatar</td>\n",
       "    </tr>\n",
       "    <tr>\n",
       "      <th>id</th>\n",
       "      <td>33</td>\n",
       "    </tr>\n",
       "  </tbody>\n",
       "</table>\n",
       "</div>"
      ],
      "text/plain": [
       "                               0\n",
       "date_time     9/20/2022 11:41:37\n",
       "email         correo@dominio.com\n",
       "name                    fulanito\n",
       "last_name            perez López\n",
       "age                           24\n",
       "country_lada                 +52\n",
       "phone                 5571784852\n",
       "gender                    hombre\n",
       "url_avatar            url_avatar\n",
       "id                            33"
      ]
     },
     "execution_count": 23,
     "metadata": {},
     "output_type": "execute_result"
    }
   ],
   "source": [
    "dataframe"
   ]
  },
  {
   "cell_type": "code",
   "execution_count": 11,
   "id": "bf64ad89-3384-4d8e-9915-cc0e397f47f6",
   "metadata": {},
   "outputs": [],
   "source": [
    "wks=sh.worksheet(\"Form Responses 1\")\n",
    "    #print('Usuarios actualmente:', wks.row_count)\n",
    "lista=wks.get_all_values()"
   ]
  },
  {
   "cell_type": "code",
   "execution_count": 12,
   "id": "04fe9ecd-f6d3-4ef2-bc6d-8d01956e1575",
   "metadata": {},
   "outputs": [
    {
     "data": {
      "text/plain": [
       "[['Timestamp',\n",
       "  'Email Address',\n",
       "  'Nombre ',\n",
       "  'Apellidos',\n",
       "  'Edad',\n",
       "  'País / lada',\n",
       "  'Teléfono sin lada, sin espacios y sin guiones ',\n",
       "  'Genero',\n",
       "  'url_avatar (foto de perfil )',\n",
       "  'ID'],\n",
       " ['9/20/2022 11:41:37',\n",
       "  'carlovela@gruposanta-fe.com',\n",
       "  'Carlos Ernesto',\n",
       "  'Ruiz de Velasco',\n",
       "  '63',\n",
       "  'Mexico +52',\n",
       "  '5539506645',\n",
       "  'Hombre',\n",
       "  'https://www.pngall.com/wp-content/uploads/12/Avatar-Profile-Vector.png',\n",
       "  '0'],\n",
       " ['9/26/2022 9:51:28',\n",
       "  'grupoplatinum369@gmail.com',\n",
       "  'Juan',\n",
       "  'Miranda',\n",
       "  '33',\n",
       "  'Mexico +52',\n",
       "  '5571784852',\n",
       "  'Hombre',\n",
       "  'https://www.pngall.com/wp-content/uploads/12/Avatar-PNG.png',\n",
       "  '1'],\n",
       " ['9/21/2022 6:18:22',\n",
       "  'openseabotalert@hotmail.com',\n",
       "  'Ernesto',\n",
       "  'Heaminway',\n",
       "  '113',\n",
       "  'Panamá +507',\n",
       "  '556644132',\n",
       "  'Hombre',\n",
       "  'https://www.pngall.com/wp-content/uploads/12/Avatar-Profile-PNG-Free-Image.png',\n",
       "  '2'],\n",
       " ['9/23/2022 21:41:27',\n",
       "  'conscienciacosmica369@gmail.com',\n",
       "  'conciencia ',\n",
       "  'cosmica',\n",
       "  '54',\n",
       "  'Costa Rica +506',\n",
       "  '5539506645',\n",
       "  'Hombre',\n",
       "  'https://www.pngall.com/wp-content/uploads/12/Avatar-Profile-Vector-Transparent.png',\n",
       "  '3'],\n",
       " ['9/23/2022 21:42:21',\n",
       "  'tsarmatrixremaster@gmail.com',\n",
       "  'Juanin',\n",
       "  'perez',\n",
       "  '27',\n",
       "  'Chile +56',\n",
       "  '5571784852',\n",
       "  'Hombre',\n",
       "  'https://www.pngall.com/wp-content/uploads/12/Avatar-Profile.png',\n",
       "  '4'],\n",
       " ['9/27/2022 13:54:10',\n",
       "  'yali.hoshi@gmail.com',\n",
       "  'Yali',\n",
       "  'Hoshi Yurei',\n",
       "  '21',\n",
       "  'Mexico +52',\n",
       "  '5634082848',\n",
       "  'Mujer',\n",
       "  'https://www.pngall.com/wp-content/uploads/12/Avatar-Profile-Vector-PNG-Photo.png',\n",
       "  '5'],\n",
       " ['3/23/2024 18:11:21',\n",
       "  'leodanlors1993@gmail.com',\n",
       "  'Leo Test',\n",
       "  'Test 0',\n",
       "  '14',\n",
       "  'Mexico +52',\n",
       "  '5513215732',\n",
       "  'Hombre',\n",
       "  'https://www.pngall.com/wp-content/uploads/12/Avatar-Profile-Vector-Transparent.png',\n",
       "  '6'],\n",
       " ['9/20/2022 11:41:37',\n",
       "  'Edgar@correo.com',\n",
       "  'Edgar',\n",
       "  'Alvares',\n",
       "  '64',\n",
       "  'Mexico +52',\n",
       "  '556644132',\n",
       "  'Mujer',\n",
       "  'https://www.pngall.com/wp-content/uploads/12/Avatar-PNG-Photo.png',\n",
       "  '7'],\n",
       " ['9/21/2022 7:00:35',\n",
       "  'Daniel@dominio.com',\n",
       "  'Daniela',\n",
       "  'Hernandez',\n",
       "  '13',\n",
       "  'Mexico +52',\n",
       "  '5539506645',\n",
       "  'Mujer',\n",
       "  'https://www.pngall.com/wp-content/uploads/12/Avatar-Profile-Vector-PNG-Photos.png',\n",
       "  '8'],\n",
       " ['9/21/2022 6:18:22',\n",
       "  'sofía@dominio.com',\n",
       "  'sofía',\n",
       "  'Gaitan',\n",
       "  '45',\n",
       "  'Panamá +507',\n",
       "  '5571784852',\n",
       "  'Mujer',\n",
       "  'https://www.pngall.com/wp-content/uploads/12/Avatar-Profile-Vector-PNG-Photo.png',\n",
       "  '9'],\n",
       " ['9/23/2022 21:41:27',\n",
       "  'Roxana@dominio.com',\n",
       "  'Roxana ',\n",
       "  'Gomez',\n",
       "  '54',\n",
       "  'Costa Rica +506',\n",
       "  '556644132',\n",
       "  'Mujer',\n",
       "  'https://www.pngall.com/wp-content/uploads/12/Avatar-Transparent.png',\n",
       "  '10'],\n",
       " ['9/24/2022 21:42:21',\n",
       "  'Emilia@dominio.com',\n",
       "  'Emilia',\n",
       "  'Perez',\n",
       "  '14',\n",
       "  'Chile +56',\n",
       "  '55564654   6',\n",
       "  'Mujer',\n",
       "  'https://www.pngall.com/wp-content/uploads/12/Avatar-Profile-PNG-Images-HD.png',\n",
       "  '11'],\n",
       " ['9/25/2022 21:42:21',\n",
       "  'Rodolfo@dominio.com',\n",
       "  'Rodolfo',\n",
       "  'Duran',\n",
       "  '45',\n",
       "  'Mexico +52',\n",
       "  'sdgf3..as',\n",
       "  'Mujer',\n",
       "  'https://www.pngall.com/wp-content/uploads/12/Avatar-Profile-Vector-PNG-Photos.png',\n",
       "  '12'],\n",
       " ['9/24/2022 21:42:21',\n",
       "  'Rodolfo@dominio.com\"',\n",
       "  'CARLOS ',\n",
       "  'ZARRAGA',\n",
       "  '54',\n",
       "  'Mexico +52',\n",
       "  '31-6346 5461',\n",
       "  'Mujer',\n",
       "  'https://www.pngall.com/wp-content/uploads/12/Avatar-Profile-Vector-PNG-Photo.png',\n",
       "  '13'],\n",
       " ['9/26/2022 21:42:21',\n",
       "  'adalbertomg07@gmail.com',\n",
       "  'MIGUEL ',\n",
       "  'CRUZ',\n",
       "  '17',\n",
       "  'Mexico +52',\n",
       "  '113512',\n",
       "  'Hombre',\n",
       "  'https://www.pngall.com/wp-content/uploads/12/Avatar-Profile-Vector.png',\n",
       "  '14'],\n",
       " ['10/17/2022 23:11:21',\n",
       "  'carlovela0@gmail.com',\n",
       "  'Fulanito',\n",
       "  'ruiz de velasco',\n",
       "  '63',\n",
       "  'Mexico +52',\n",
       "  '5539506645',\n",
       "  'Hombre',\n",
       "  'https://www.pngall.com/wp-content/uploads/12/Avatar-PNG.png',\n",
       "  '15'],\n",
       " ['10/17/2022 23:11:21',\n",
       "  'pedrovela@gmail.com',\n",
       "  'pedro ',\n",
       "  'vela',\n",
       "  '50',\n",
       "  'Medico +52',\n",
       "  '3333334444',\n",
       "  'Hombre',\n",
       "  'https://www.pngall.com/wp-content/uploads/12/Avatar-Profile-PNG-Free-Image.png',\n",
       "  '16'],\n",
       " ['10/17/2022 23:11:21',\n",
       "  'lucyvela@gmail.com',\n",
       "  'lucia',\n",
       "  'perez',\n",
       "  '50',\n",
       "  'Mexico +52',\n",
       "  '4444443333',\n",
       "  'Mujer',\n",
       "  'https://www.pngall.com/wp-content/uploads/12/Avatar-Profile-Vector-PNG-Photo.png',\n",
       "  '17'],\n",
       " ['9/24/2022 21:42:21',\n",
       "  'Rodolfo@dominio.com\"',\n",
       "  \"Rodolfa'\",\n",
       "  'Rodolfo@dominio.com',\n",
       "  '54',\n",
       "  'Mexico +52',\n",
       "  '31-6346 5461',\n",
       "  'Mujer',\n",
       "  'https://www.pngall.com/wp-content/uploads/12/Avatar-PNG-Photo.png',\n",
       "  '18'],\n",
       " ['9/24/2022 21:42:21',\n",
       "  'Rodolfo@dominio.com\"',\n",
       "  \"Rodolfa'\",\n",
       "  'Rodolfo@dominio.com',\n",
       "  '54',\n",
       "  'Mexico +52',\n",
       "  '31-6346 5461',\n",
       "  'Mujer',\n",
       "  'https://www.pngall.com/wp-content/uploads/12/Avatar-Profile-Vector-PNG-Photos.png',\n",
       "  '19'],\n",
       " ['9/24/2022 21:42:21',\n",
       "  'Rodolfo@dominio.com\"',\n",
       "  \"Rodolfa'\",\n",
       "  'Rodolfo@dominio.com',\n",
       "  '54',\n",
       "  'Mexico +52',\n",
       "  '31-6346 5461',\n",
       "  'Mujer',\n",
       "  'https://www.pngall.com/wp-content/uploads/12/Avatar-Profile-Vector-PNG-Photo.png',\n",
       "  '20'],\n",
       " ['10/24/2022 21:42:21',\n",
       "  'iamariam2002@gmail.com',\n",
       "  'fernanda ',\n",
       "  'martinez',\n",
       "  '20',\n",
       "  'Mexico +52',\n",
       "  '55326041',\n",
       "  'mujer',\n",
       "  'https://www.pngall.com/wp-content/uploads/12/Avatar-Profile-Vector-PNG-Photos.png',\n",
       "  '21'],\n",
       " ['10/24/2022 21:42:21',\n",
       "  'algo@dominio.com',\n",
       "  'fulanita',\n",
       "  'Hernandez',\n",
       "  '22',\n",
       "  'Mexico +52',\n",
       "  '5577884466',\n",
       "  'mujer',\n",
       "  'https://www.pngall.com/wp-content/uploads/12/Avatar-Profile-Vector-PNG-Photo.png',\n",
       "  '22']]"
      ]
     },
     "execution_count": 12,
     "metadata": {},
     "output_type": "execute_result"
    }
   ],
   "source": [
    "lista"
   ]
  },
  {
   "cell_type": "code",
   "execution_count": null,
   "id": "0978b60d-374b-40f6-b9e4-7d6383213084",
   "metadata": {},
   "outputs": [],
   "source": []
  }
 ],
 "metadata": {
  "kernelspec": {
   "display_name": "Python 3 (ipykernel)",
   "language": "python",
   "name": "python3"
  },
  "language_info": {
   "codemirror_mode": {
    "name": "ipython",
    "version": 3
   },
   "file_extension": ".py",
   "mimetype": "text/x-python",
   "name": "python",
   "nbconvert_exporter": "python",
   "pygments_lexer": "ipython3",
   "version": "3.12.2"
  }
 },
 "nbformat": 4,
 "nbformat_minor": 5
}
